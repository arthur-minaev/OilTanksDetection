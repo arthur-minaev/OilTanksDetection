{
 "cells": [
  {
   "cell_type": "code",
   "execution_count": null,
   "id": "11fed30b",
   "metadata": {},
   "outputs": [],
   "source": [
    "import os\n",
    "import numpy as np\n",
    "import pandas as pd\n",
    "import geopandas as gpd"
   ]
  },
  {
   "cell_type": "code",
   "execution_count": null,
   "id": "2f909026",
   "metadata": {},
   "outputs": [],
   "source": [
    "folder_mask = r\"C:\\Segment\\Test\\mask\"\n",
    "folder_preds = r\"C:\\Segment\\Test\\predict\"\n",
    "out_file = r\"C:\\Segment\\Test\\metrics.xls\""
   ]
  },
  {
   "cell_type": "code",
   "execution_count": null,
   "id": "f18b4bac",
   "metadata": {},
   "outputs": [],
   "source": [
    "class CalculateMetrics:\n",
    "    def __init__(self, folder_mask, folder_preds, out_file):\n",
    "        self.folder_mask = folder_mask\n",
    "        self.folder_preds = folder_preds\n",
    "        self.out_file = out_file\n",
    "        # calculate results\n",
    "        self.pairs = self.GetPairs(self.folder_mask, self.folder_preds)\n",
    "        self.metrics_list = self.GetMetricsList(self.pairs)\n",
    "        self.GetResultStats(self.metrics_list, self.out_file)\n",
    "        \n",
    "    def GetPairs(self, folder_mask, folder_preds):    \n",
    "        files_mask = [os.path.join(folder_mask, file) for file in os.listdir(folder_mask) if file.endswith('.shp')]\n",
    "        files_preds= [os.path.join(folder_preds, file) for file in os.listdir(folder_preds) if file.endswith('.shp')]\n",
    "        pairs = []\n",
    "        for file_mask in files_mask:\n",
    "            for file_preds in files_preds:\n",
    "                if os.path.basename(file_preds) == os.path.basename(file_mask):\n",
    "                    pairs.append([file_mask, file_preds])\n",
    "        return pairs\n",
    "\n",
    "    def GetMetrics(self, mask_df, pred_df):\n",
    "        # count areas\n",
    "        inter_df = mask_df.overlay(pred_df, how='intersection')\n",
    "        tp_area = sum(inter_df.area)\n",
    "        fn_area = sum(mask_df.area) - sum(inter_df.area)\n",
    "        fp_area = sum(pred_df.area) - sum(inter_df.area)\n",
    "        # count metrics\n",
    "        prec = tp_area/(tp_area+fp_area)\n",
    "        recall = tp_area/(tp_area+fn_area)\n",
    "        f1 = (2*prec*recall)/(prec+recall)\n",
    "        return [prec, recall, f1]\n",
    "\n",
    "    def GetMetricsList(self, pairs):\n",
    "        metrics_list = []\n",
    "        for pair in pairs:\n",
    "            mask = pair[0]\n",
    "            pred = pair[1]\n",
    "            mask_df = gpd.read_file(mask)\n",
    "            pred_df = gpd.read_file(pred)\n",
    "            metrics = self.GetMetrics(mask_df, pred_df)\n",
    "            metrics_list.append(metrics)\n",
    "        return metrics_list\n",
    "\n",
    "    def GetResultStats(self, metrics_list, out_file):\n",
    "        data = {'prec': [metrics[0] for metrics in metrics_list],\n",
    "               'recall': [metrics[1] for metrics in metrics_list],\n",
    "               'f1': [metrics[2] for metrics in metrics_list]}\n",
    "        df = pd.DataFrame(data)\n",
    "        prec_res = np.mean(df.prec.tolist())\n",
    "        recall_res = np.mean(df.recall.tolist())\n",
    "        f1_res = np.mean(df.f1.tolist())\n",
    "        df.loc[len(df.index)] = [prec_res, recall_res, f1_res] \n",
    "        df.to_excel(out_file)\n",
    "        \n",
    "CalculateMetrics(folder_mask, folder_preds, out_file)"
   ]
  },
  {
   "cell_type": "code",
   "execution_count": null,
   "id": "258258a7",
   "metadata": {},
   "outputs": [],
   "source": []
  }
 ],
 "metadata": {
  "kernelspec": {
   "display_name": "Python 3 (ipykernel)",
   "language": "python",
   "name": "python3"
  },
  "language_info": {
   "codemirror_mode": {
    "name": "ipython",
    "version": 3
   },
   "file_extension": ".py",
   "mimetype": "text/x-python",
   "name": "python",
   "nbconvert_exporter": "python",
   "pygments_lexer": "ipython3",
   "version": "3.8.16"
  }
 },
 "nbformat": 4,
 "nbformat_minor": 5
}
